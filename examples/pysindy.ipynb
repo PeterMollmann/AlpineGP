{
 "cells": [
  {
   "cell_type": "markdown",
   "id": "0c13619e-4ad9-413c-b30b-a81ce8aa0854",
   "metadata": {},
   "source": [
    "# Pysindy with DEC data"
   ]
  },
  {
   "cell_type": "code",
   "execution_count": 1,
   "id": "0d2ce03d-814f-4788-a46e-aa25995e5394",
   "metadata": {},
   "outputs": [],
   "source": [
    "import dctkit as dt\n",
    "from dctkit import config\n",
    "import os\n",
    "from scipy.io import loadmat\n",
    "import numpy as np\n",
    "import matplotlib.pyplot as plt\n",
    "from dctkit.mesh import util\n",
    "from dctkit.mesh.simplex import SimplicialComplex\n",
    "from dctkit.dec import cochain as C\n",
    "from dctkit.dec.vector import flat_PDP as flat\n",
    "from matplotlib import cm\n",
    "import pysindy as ps\n",
    "from alpine.data.util import load_dataset\n",
    "from alpine.data.burgers.burgers_dataset import data_path\n",
    "from dctkit.physics import burgers as b\n",
    "import math\n",
    "from sklearn.model_selection import train_test_split\n",
    "#import gmsh\n",
    "\n",
    "#gmsh.initialize()"
   ]
  },
  {
   "cell_type": "code",
   "execution_count": 2,
   "id": "5755f175-deb6-44fb-9886-c0fbcce10219",
   "metadata": {},
   "outputs": [],
   "source": [
    "config()"
   ]
  },
  {
   "cell_type": "code",
   "execution_count": 3,
   "id": "1e686b72-9bc0-4377-a852-3bac197e983d",
   "metadata": {},
   "outputs": [
    {
     "name": "stdout",
     "output_type": "stream",
     "text": [
      "0.006239345810644392\n"
     ]
    }
   ],
   "source": [
    "# SPACE PARAMS\n",
    "# spatial resolution\n",
    "dx = 2**4/2**9\n",
    "L = 2**4 + dx\n",
    "dx_norm = dx/L\n",
    "L_norm = 1\n",
    "#  Number of spatial grid points\n",
    "num_x_points = int(math.ceil(L / dx))\n",
    "num_x_points_norm = num_x_points\n",
    "\n",
    "# vector containing spatial points\n",
    "#x = np.linspace(0, L, num_x_points)\n",
    "x = np.linspace(-L/2, L/2, num_x_points)\n",
    "x_circ = (x[:-1] + x[1:])/2\n",
    "\n",
    "# initial velocity\n",
    "#u_0 = 2 * np.exp(-2 * (x_circ - 0.5 * L)**2)\n",
    "u_0 = 1* np.exp(-1 * (x_circ + 0.5 * L/4)**2)\n",
    "umax = np.max(u_0)\n",
    "\n",
    "# TIME PARAMS\n",
    "T = 10\n",
    "T_norm = T*umax/L\n",
    "# temporal resolution\n",
    "dt = 10/2**12\n",
    "dt_norm = dt*umax/L\n",
    "# number of temporal grid points\n",
    "num_t_points_norm = int(math.ceil(T_norm / dt_norm))\n",
    "num_t_points = num_t_points_norm\n",
    "\n",
    "\n",
    "t = np.linspace(0, T, num_t_points)\n",
    "t_norm = np.linspace(0, T_norm, num_t_points_norm)\n",
    "\n",
    "# Viscosity\n",
    "#epsilon = 0.005*(L*umax)\n",
    "epsilon = 0.1\n",
    "epsilon_norm = epsilon/(L*umax)\n",
    "print(epsilon_norm)\n",
    "\n",
    "nodes_BC = {'left': np.zeros(num_t_points_norm),\n",
    "            'right': np.zeros(num_t_points_norm)}"
   ]
  },
  {
   "cell_type": "code",
   "execution_count": 4,
   "id": "b7c65868-076f-41de-85e9-c5c71c5a8692",
   "metadata": {},
   "outputs": [],
   "source": [
    "# generate mesh\n",
    "# since the mesh points are a lot (> 1000) to not display warnings \n",
    "# we put expert mode\n",
    "#gmsh.option.setNumber(\"General.ExpertMode\", 1)\n",
    "mesh, _ = util.generate_line_mesh(num_x_points, L, x_min=-L/2)\n",
    "S = util.build_complex_from_mesh(mesh)\n",
    "S.get_hodge_star()\n",
    "S.get_flat_PDP_weights()\n",
    "# get circ\n",
    "circ = S.circ[1][:,0]"
   ]
  },
  {
   "cell_type": "code",
   "execution_count": 5,
   "id": "82221d60-ee49-468c-bfe0-52903d18ab63",
   "metadata": {},
   "outputs": [],
   "source": [
    "# construct full u (only for plotting and u_dot)\n",
    "prb = b.Burgers(S, T, dt, u_0, nodes_BC, epsilon)\n",
    "prb.run(\"parabolic\")"
   ]
  },
  {
   "cell_type": "code",
   "execution_count": 6,
   "id": "34581f2e-dbf3-4ec8-b1b0-9cb07db0eccf",
   "metadata": {},
   "outputs": [],
   "source": [
    "u = prb.u\n",
    "u_dot_true = ps.FiniteDifference(axis=1)._differentiate(u, t=dt)"
   ]
  },
  {
   "cell_type": "code",
   "execution_count": 45,
   "id": "e1794153-5142-4d6c-917f-4dff7002741b",
   "metadata": {},
   "outputs": [
    {
     "name": "stdout",
     "output_type": "stream",
     "text": [
      "(32, 16)\n"
     ]
    }
   ],
   "source": [
    "## define skip_dx and skip_dt\n",
    "skip_dx = 2**4\n",
    "skip_dt = 2**8\n",
    "\n",
    "# define sub-sampled mesh and time interval\n",
    "t_sample = t[::skip_dt]\n",
    "circ_sample = circ[::skip_dx]\n",
    "\n",
    "u_sample = u[::skip_dx, ::skip_dt]\n",
    "u_dot_sample = u_dot_true[::skip_dx, ::skip_dt]\n",
    "print(u_sample.shape)"
   ]
  },
  {
   "cell_type": "code",
   "execution_count": 78,
   "id": "6f467162-c7b1-4712-94b1-38835658654b",
   "metadata": {},
   "outputs": [],
   "source": [
    "# split data\n",
    "perc_val = 0.1\n",
    "perc_test = 0.1\n",
    "\n",
    "# split the dataset in training and test set\n",
    "time_train_val, time_test, u_train_val_T, u_test_T = train_test_split(\n",
    "    np.arange(len(t_sample)), u_sample.T, test_size=perc_test, random_state=42, shuffle=False)\n",
    "\n",
    "# split X_train in training and validation set\n",
    "\n",
    "time_train, time_val, u_train_T, u_val_T = train_test_split(\n",
    "    time_train_val, u_train_val_T, test_size=perc_val, random_state=42, shuffle=False)"
   ]
  },
  {
   "cell_type": "code",
   "execution_count": 80,
   "id": "093c95ed-2386-4ea8-a4a5-205303834e28",
   "metadata": {},
   "outputs": [],
   "source": [
    "# order data accordingly: useful only in the (wrong) case shuffle = True\n",
    "train_sort_map = np.argsort(time_train)\n",
    "val_sort_map = np.argsort(time_val)\n",
    "train_val_sort_map = np.argsort(time_train_val)\n",
    "test_sort_map = np.argsort(time_test)\n",
    "\n",
    "time_train = time_train[train_sort_map]\n",
    "time_val = time_val[val_sort_map]\n",
    "time_train_val = time_train_val[train_val_sort_map]\n",
    "time_test = time_test[test_sort_map]\n",
    "\n",
    "u_train_T = u_train_T[train_sort_map,:]\n",
    "u_val_T = u_val_T[val_sort_map,:]\n",
    "u_train_val_T = u_train_val_T[train_val_sort_map,:]\n",
    "u_test_T = u_test_T[test_sort_map,:]"
   ]
  },
  {
   "cell_type": "code",
   "execution_count": 81,
   "id": "d37b48d0-a0e8-4a0e-a515-c0d935aa9f54",
   "metadata": {},
   "outputs": [
    {
     "data": {
      "image/png": "[encoded data removed]",
      "text/plain": [
       "<Figure size 1000x500 with 2 Axes>"
      ]
     },
     "metadata": {},
     "output_type": "display_data"
    }
   ],
   "source": [
    "# PLOT FULL DATA\n",
    "fig1, ax = plt.subplots(1, 2, figsize=(10, 5))\n",
    "ax[0].pcolormesh(t_sample, circ_sample, u_sample)\n",
    "ax[1].pcolormesh(t_sample,circ_sample,u_dot_sample)\n",
    "ax[0].set_xlabel('t', fontsize=16)\n",
    "ax[0].set_ylabel('x', fontsize=16)\n",
    "ax[0].set_title(r'$u(x, t)$', fontsize=16)\n",
    "ax[1].set_xlabel('t', fontsize=16)\n",
    "ax[1].set_ylabel('x', fontsize=16)\n",
    "ax[1].set_title(r'$\\dot{u}(x, t)$', fontsize=16)\n",
    "plt.show()"
   ]
  },
  {
   "cell_type": "markdown",
   "id": "c3c44b39-ec4c-45f1-b96e-1dfa8f30ff3c",
   "metadata": {},
   "source": [
    "## Model Selection"
   ]
  },
  {
   "cell_type": "code",
   "execution_count": 82,
   "id": "663a71fe-1c06-4110-ae21-ba290f288646",
   "metadata": {},
   "outputs": [],
   "source": [
    "# define u_training\n",
    "t_training = t_sample[time_train]\n",
    "u_training = u_train_T.T\n",
    "\n",
    "# define u_training_dot\n",
    "u_dot_training_true = u_dot_sample[:, time_train]"
   ]
  },
  {
   "cell_type": "code",
   "execution_count": 83,
   "id": "dcb89e68-98ea-4e8a-b5e9-a4fa35808390",
   "metadata": {},
   "outputs": [
    {
     "data": {
      "image/png": "[encoded data removed]",
      "text/plain": [
       "<Figure size 1000x500 with 2 Axes>"
      ]
     },
     "metadata": {},
     "output_type": "display_data"
    }
   ],
   "source": [
    "# PRINT TRAINING DATA\n",
    "fig1, ax = plt.subplots(1, 2, figsize=(10, 5))\n",
    "ax[0].pcolormesh(t_training, circ_sample, u_training)\n",
    "ax[1].pcolormesh(t_training,circ_sample,u_dot_training_true)\n",
    "ax[0].set_xlabel('t', fontsize=16)\n",
    "ax[0].set_ylabel('x', fontsize=16)\n",
    "ax[0].set_title(r'$u(x, t)$', fontsize=16)\n",
    "ax[1].set_xlabel('t', fontsize=16)\n",
    "ax[1].set_ylabel('x', fontsize=16)\n",
    "ax[1].set_title(r'$\\dot{u}(x, t)$', fontsize=16)\n",
    "plt.show()"
   ]
  },
  {
   "cell_type": "code",
   "execution_count": 84,
   "id": "6fe3b46c-f609-4494-97de-f577bb8085ca",
   "metadata": {},
   "outputs": [],
   "source": [
    "# reshape u_training and u_dot_training\n",
    "u_training_reshape = u_training.reshape(len(circ_sample), len(time_train), 1)\n",
    "u_training_dot_reshape = u_dot_training_true.reshape(u_dot_training_true.shape[0], \n",
    "                                                     u_dot_training_true.shape[1], 1)"
   ]
  },
  {
   "cell_type": "code",
   "execution_count": 85,
   "id": "e8d636d8-009e-402b-ba4b-c90f4e7b19e3",
   "metadata": {},
   "outputs": [],
   "source": [
    "library_functions = [lambda x: x, lambda x: x*x, lambda x: x*x*x]\n",
    "library_function_names = [lambda x: x, lambda x: x+x, lambda x: x+x+x]\n",
    "pde_lib = ps.PDELibrary(\n",
    "    library_functions=library_functions,\n",
    "    function_names=library_function_names,\n",
    "    #derivative_order=5,\n",
    "    derivative_order=3,\n",
    "    spatial_grid=circ_sample,\n",
    "    is_uniform=True,\n",
    "    include_bias =True,\n",
    ")\n"
   ]
  },
  {
   "cell_type": "code",
   "execution_count": 86,
   "id": "150b0c7a-aa4a-40ac-a809-b683cfa934da",
   "metadata": {},
   "outputs": [],
   "source": [
    "u_val = u_val_T.T\n",
    "u_val_reshape = u_val.reshape(u_val.shape[0], u_val.shape[1], 1)\n",
    "\n",
    "u_dot_val_true = u_dot_sample[:, time_val]"
   ]
  },
  {
   "cell_type": "code",
   "execution_count": 87,
   "id": "568f92bb-adb6-4f20-9aa6-63f5c035b6da",
   "metadata": {},
   "outputs": [],
   "source": [
    "# grid search params\n",
    "threshold_list = [1, 2.5, 5, 7.5, 10]\n",
    "alpha_list = [1e-1, 1e-2,1e-3, 1e-4, 1e-5]"
   ]
  },
  {
   "cell_type": "code",
   "execution_count": 88,
   "id": "f9ec8754-6843-4aa8-9470-d93a154a7aaa",
   "metadata": {},
   "outputs": [],
   "source": [
    "#GRID SEARCH\n",
    "def grid_search(threshold_list, alpha_list, l0 =0.001):\n",
    "    curr_best_error = 1000\n",
    "    for threshold in threshold_list:\n",
    "        for alpha in alpha_list:\n",
    "            optimizer = ps.STLSQ(threshold=threshold, alpha=alpha, normalize_columns=True, verbose=False)\n",
    "            model = ps.SINDy(feature_library=pde_lib, optimizer=optimizer)\n",
    "            model.fit(u_training_reshape, t=t_training)\n",
    "            u_dot_val = model.predict(u_val_reshape)[:,:,0] + l0*np.count_nonzero(model.coefficients())\n",
    "            val_err = np.mean(np.linalg.norm(u_dot_val_true - u_dot_val, axis=0)**2)\n",
    "            if val_err < curr_best_error:\n",
    "                curr_best_error = val_err\n",
    "                best_params = (threshold, alpha)\n",
    "    return curr_best_error, best_params"
   ]
  },
  {
   "cell_type": "code",
   "execution_count": 89,
   "id": "52f9c907-5ba5-4fb4-b4e7-35d5a07c3c73",
   "metadata": {},
   "outputs": [
    {
     "name": "stdout",
     "output_type": "stream",
     "text": [
      "0.0007570144504378145\n",
      "(1, 0.0001)\n"
     ]
    },
    {
     "name": "stderr",
     "output_type": "stream",
     "text": [
      "/home/smanti/mambaforge/envs/dctkit/lib/python3.11/site-packages/pysindy/optimizers/stlsq.py:191: UserWarning: Sparsity parameter is too big (1) and eliminated all coefficients\n",
      "  warnings.warn(\n",
      "/home/smanti/mambaforge/envs/dctkit/lib/python3.11/site-packages/pysindy/optimizers/stlsq.py:191: UserWarning: Sparsity parameter is too big (1) and eliminated all coefficients\n",
      "  warnings.warn(\n",
      "/home/smanti/mambaforge/envs/dctkit/lib/python3.11/site-packages/pysindy/optimizers/stlsq.py:191: UserWarning: Sparsity parameter is too big (2.5) and eliminated all coefficients\n",
      "  warnings.warn(\n",
      "/home/smanti/mambaforge/envs/dctkit/lib/python3.11/site-packages/pysindy/optimizers/stlsq.py:191: UserWarning: Sparsity parameter is too big (2.5) and eliminated all coefficients\n",
      "  warnings.warn(\n",
      "/home/smanti/mambaforge/envs/dctkit/lib/python3.11/site-packages/pysindy/optimizers/stlsq.py:191: UserWarning: Sparsity parameter is too big (2.5) and eliminated all coefficients\n",
      "  warnings.warn(\n",
      "/home/smanti/mambaforge/envs/dctkit/lib/python3.11/site-packages/pysindy/optimizers/stlsq.py:191: UserWarning: Sparsity parameter is too big (2.5) and eliminated all coefficients\n",
      "  warnings.warn(\n",
      "/home/smanti/mambaforge/envs/dctkit/lib/python3.11/site-packages/pysindy/optimizers/stlsq.py:191: UserWarning: Sparsity parameter is too big (5) and eliminated all coefficients\n",
      "  warnings.warn(\n",
      "/home/smanti/mambaforge/envs/dctkit/lib/python3.11/site-packages/pysindy/optimizers/stlsq.py:191: UserWarning: Sparsity parameter is too big (5) and eliminated all coefficients\n",
      "  warnings.warn(\n",
      "/home/smanti/mambaforge/envs/dctkit/lib/python3.11/site-packages/pysindy/optimizers/stlsq.py:191: UserWarning: Sparsity parameter is too big (5) and eliminated all coefficients\n",
      "  warnings.warn(\n",
      "/home/smanti/mambaforge/envs/dctkit/lib/python3.11/site-packages/pysindy/optimizers/stlsq.py:191: UserWarning: Sparsity parameter is too big (5) and eliminated all coefficients\n",
      "  warnings.warn(\n",
      "/home/smanti/mambaforge/envs/dctkit/lib/python3.11/site-packages/pysindy/optimizers/stlsq.py:191: UserWarning: Sparsity parameter is too big (5) and eliminated all coefficients\n",
      "  warnings.warn(\n",
      "/home/smanti/mambaforge/envs/dctkit/lib/python3.11/site-packages/pysindy/optimizers/stlsq.py:191: UserWarning: Sparsity parameter is too big (7.5) and eliminated all coefficients\n",
      "  warnings.warn(\n",
      "/home/smanti/mambaforge/envs/dctkit/lib/python3.11/site-packages/pysindy/optimizers/stlsq.py:191: UserWarning: Sparsity parameter is too big (7.5) and eliminated all coefficients\n",
      "  warnings.warn(\n",
      "/home/smanti/mambaforge/envs/dctkit/lib/python3.11/site-packages/pysindy/optimizers/stlsq.py:191: UserWarning: Sparsity parameter is too big (7.5) and eliminated all coefficients\n",
      "  warnings.warn(\n",
      "/home/smanti/mambaforge/envs/dctkit/lib/python3.11/site-packages/pysindy/optimizers/stlsq.py:191: UserWarning: Sparsity parameter is too big (7.5) and eliminated all coefficients\n",
      "  warnings.warn(\n",
      "/home/smanti/mambaforge/envs/dctkit/lib/python3.11/site-packages/pysindy/optimizers/stlsq.py:191: UserWarning: Sparsity parameter is too big (7.5) and eliminated all coefficients\n",
      "  warnings.warn(\n",
      "/home/smanti/mambaforge/envs/dctkit/lib/python3.11/site-packages/pysindy/optimizers/stlsq.py:191: UserWarning: Sparsity parameter is too big (10) and eliminated all coefficients\n",
      "  warnings.warn(\n",
      "/home/smanti/mambaforge/envs/dctkit/lib/python3.11/site-packages/pysindy/optimizers/stlsq.py:191: UserWarning: Sparsity parameter is too big (10) and eliminated all coefficients\n",
      "  warnings.warn(\n",
      "/home/smanti/mambaforge/envs/dctkit/lib/python3.11/site-packages/pysindy/optimizers/stlsq.py:191: UserWarning: Sparsity parameter is too big (10) and eliminated all coefficients\n",
      "  warnings.warn(\n",
      "/home/smanti/mambaforge/envs/dctkit/lib/python3.11/site-packages/pysindy/optimizers/stlsq.py:191: UserWarning: Sparsity parameter is too big (10) and eliminated all coefficients\n",
      "  warnings.warn(\n",
      "/home/smanti/mambaforge/envs/dctkit/lib/python3.11/site-packages/pysindy/optimizers/stlsq.py:191: UserWarning: Sparsity parameter is too big (10) and eliminated all coefficients\n",
      "  warnings.warn(\n"
     ]
    }
   ],
   "source": [
    "curr_best_error, best_params = grid_search(threshold_list, alpha_list)\n",
    "print(curr_best_error)\n",
    "print(best_params)"
   ]
  },
  {
   "cell_type": "code",
   "execution_count": 71,
   "id": "5880ced3-ed5d-4d99-9d94-06c4975c3081",
   "metadata": {},
   "outputs": [],
   "source": [
    "# refined GS\n",
    "#best_threshold = best_params[0]\n",
    "#best_alpha = best_params[1]\n",
    "#threshold_list = [best_threshold-0.5, best_threshold, best_threshold + 0.5]\n",
    "#alpha_list = [best_alpha/5, best_alpha, best_alpha*5]\n",
    "#curr_best_error, best_params = grid_search(threshold_list, alpha_list)\n",
    "#print(curr_best_error)\n",
    "#print(best_params)"
   ]
  },
  {
   "cell_type": "markdown",
   "id": "4105f32b-e004-443c-b2aa-85b6a85371d8",
   "metadata": {},
   "source": [
    "## Model assessment"
   ]
  },
  {
   "cell_type": "code",
   "execution_count": 90,
   "id": "29f27f07-7e9d-4d56-b854-c617c639a5bb",
   "metadata": {},
   "outputs": [],
   "source": [
    "# define u_train_val\n",
    "#time_train_val = np.sort(np.concatenate((time_train, time_val)))\n",
    "t_train_val = t_sample[time_train_val]\n",
    "#u_train_val = np.vstack((u_train_T, u_val_T)).T\n",
    "u_train_val = u_train_val_T.T\n",
    "\n",
    "# define u_training_dot\n",
    "u_dot_train_val_true = u_dot_sample[:, time_train_val]"
   ]
  },
  {
   "cell_type": "code",
   "execution_count": 91,
   "id": "9bbcc92c-7e58-44c9-b168-7e427605676a",
   "metadata": {},
   "outputs": [
    {
     "name": "stdout",
     "output_type": "stream",
     "text": [
      "(32, 14, 1)\n"
     ]
    }
   ],
   "source": [
    "# reshape u_train_val and u_dot_train_val\n",
    "u_train_val_reshape = u_train_val.reshape(len(circ_sample), len(time_train_val), 1)\n",
    "u_train_val_dot_reshape = u_dot_train_val_true.reshape(u_dot_train_val_true.shape[0], \n",
    "                                                     u_dot_train_val_true.shape[1], 1)\n",
    "print(u_train_val_reshape.shape)\n"
   ]
  },
  {
   "cell_type": "code",
   "execution_count": 92,
   "id": "5ea2354a-0a62-4fe7-b8f5-025d45d2586b",
   "metadata": {},
   "outputs": [
    {
     "name": "stdout",
     "output_type": "stream",
     "text": [
      "STLSQ model:\n",
      " Iteration ... |y - Xw|^2 ...  a * |w|_2 ...      |w|_0 ... Total error: |y - Xw|^2 + a * |w|_2\n",
      "         0 ... 1.4300e+00 ... 6.1717e-03 ...          8 ... 1.4362e+00\n",
      "         1 ... 1.1961e+00 ... 6.1312e-03 ...          5 ... 1.2022e+00\n",
      "         2 ... 1.5026e-01 ... 7.9475e-03 ...          4 ... 1.5820e-01\n",
      "         3 ... 1.0535e-01 ... 1.0077e-02 ...          4 ... 1.1543e-01\n",
      "(x0)' = -1.099 x0x0_1 + 1.387 x0x0_11 + -3.178 x0x0x0_11 + 2.023 x0x0x0x0_11\n"
     ]
    }
   ],
   "source": [
    "# fit without u_t\n",
    "optimizer = ps.STLSQ(threshold=best_params[0], alpha=best_params[1], normalize_columns=True, verbose=True)\n",
    "model = ps.SINDy(feature_library=pde_lib, optimizer=optimizer)\n",
    "print('STLSQ model:')\n",
    "model.fit(u_train_val_reshape, t=t_train_val)\n",
    "model.print()"
   ]
  },
  {
   "cell_type": "code",
   "execution_count": 23,
   "id": "3a66993f-1054-4ae3-8521-bdc7c43809a6",
   "metadata": {
    "scrolled": true
   },
   "outputs": [
    {
     "name": "stdout",
     "output_type": "stream",
     "text": [
      "[ 0.10222092 -1.01096274]\n",
      "1.6585963234580114\n"
     ]
    }
   ],
   "source": [
    "# only in the recovery case\n",
    "coeffs = model.coefficients()\n",
    "non_zero_coeffs = coeffs[np.nonzero(model.coefficients())]\n",
    "print(non_zero_coeffs)\n",
    "non_zero_coeffs[0] = (non_zero_coeffs[0] - 0.1)*100/0.1\n",
    "non_zero_coeffs[1] = (non_zero_coeffs[1] + 1)*100\n",
    "print(np.mean(np.abs(non_zero_coeffs)))"
   ]
  },
  {
   "cell_type": "code",
   "execution_count": 24,
   "id": "d79f81c3-d422-472f-a670-67f4b9765a1a",
   "metadata": {},
   "outputs": [
    {
     "name": "stdout",
     "output_type": "stream",
     "text": [
      "8.369127163740785e-05\n"
     ]
    }
   ],
   "source": [
    "# compute new training error\n",
    "u_dot_train_val = model.predict(u_train_val_reshape)[:,:,0]\n",
    "print(np.mean(np.linalg.norm(u_dot_train_val_true - u_dot_train_val, axis=0)**2))"
   ]
  },
  {
   "cell_type": "code",
   "execution_count": 25,
   "id": "0f014087-2699-441c-96e3-37ac57811840",
   "metadata": {},
   "outputs": [],
   "source": [
    "# defining u_test\n",
    "u_test = u_test_T.T\n",
    "u_test_reshape = u_test.reshape(u_test.shape[0], u_test.shape[1], 1)"
   ]
  },
  {
   "cell_type": "code",
   "execution_count": 26,
   "id": "9af0dcc8-5cfd-4274-a68b-52c7470f9461",
   "metadata": {},
   "outputs": [],
   "source": [
    "# define u_dot_test_true and compute u_test\n",
    "t_test = t[time_test]\n",
    "u_dot_test_true = u_dot_sample[:, time_test]\n",
    "u_dot_test = model.predict(u_test_reshape)[:,:,0]"
   ]
  },
  {
   "cell_type": "code",
   "execution_count": 27,
   "id": "bc90c42c-3b25-4006-9869-c50a1070c1f8",
   "metadata": {},
   "outputs": [
    {
     "name": "stdout",
     "output_type": "stream",
     "text": [
      "4.3795707629492885e-06\n"
     ]
    }
   ],
   "source": [
    "# compute test error\n",
    "print(np.mean(np.linalg.norm(u_dot_test_true - u_dot_test, axis=0)**2))"
   ]
  },
  {
   "cell_type": "markdown",
   "id": "0ba393fe-a0ab-4107-9d1f-ea3775314962",
   "metadata": {},
   "source": [
    "## True $\\dot{u}$ vs computed $\\dot{u}$"
   ]
  },
  {
   "cell_type": "code",
   "execution_count": 28,
   "id": "3921be19-f95e-4473-ad5b-b58c421d8d1d",
   "metadata": {},
   "outputs": [],
   "source": [
    "# reconstruct u_dot_true_model\n",
    "u_dot_model = np.zeros_like(u_sample)\n",
    "u_dot_model[:, time_train_val] = u_dot_train_val\n",
    "u_dot_model[:, time_test] = u_dot_test"
   ]
  },
  {
   "cell_type": "code",
   "execution_count": 29,
   "id": "55adea80-879c-4f8c-8758-0cb59058e212",
   "metadata": {},
   "outputs": [
    {
     "name": "stdout",
     "output_type": "stream",
     "text": [
      "7.563617701734564e-05\n"
     ]
    }
   ],
   "source": [
    "# compute total error\n",
    "print(np.mean(np.linalg.norm(u_dot_model - u_dot_sample, axis=0)**2))"
   ]
  },
  {
   "cell_type": "code",
   "execution_count": 30,
   "id": "34ba93a4-a78c-4694-b732-c548b3819d0b",
   "metadata": {},
   "outputs": [
    {
     "data": {
      "image/png": "[encoded data removed]",
      "text/plain": [
       "<Figure size 640x480 with 1 Axes>"
      ]
     },
     "metadata": {},
     "output_type": "display_data"
    }
   ],
   "source": [
    "# COMPARISON udot_true VS udot_predict \n",
    "# check u_dot profile in the last test time\n",
    "single_test_time = time_test[-1]\n",
    "plt.plot(circ_sample, u_dot_model[:,single_test_time])\n",
    "plt.plot(circ_sample, u_dot_sample[:, single_test_time])\n",
    "plt.show()"
   ]
  },
  {
   "cell_type": "code",
   "execution_count": 31,
   "id": "c62d233a-c04e-44c7-806e-4a0b1bf89c46",
   "metadata": {},
   "outputs": [
    {
     "data": {
      "image/png": "[encoded data removed]",
      "text/plain": [
       "<Figure size 1000x500 with 2 Axes>"
      ]
     },
     "metadata": {},
     "output_type": "display_data"
    }
   ],
   "source": [
    "# COMPARISON udot_true VS udot_predict \n",
    "fig1, ax = plt.subplots(1, 2, figsize=(10, 5))\n",
    "ax[0].pcolormesh(t_sample,circ_sample,u_dot_sample)\n",
    "ax[1].pcolormesh(t_sample, circ_sample, u_dot_model)\n",
    "ax[0].set_xlabel('t', fontsize=16)\n",
    "ax[0].set_ylabel('x', fontsize=16)\n",
    "ax[0].set_title(r'$\\dot{u}(x, t)$', fontsize=16)\n",
    "ax[1].set_xlabel('t', fontsize=16)\n",
    "ax[1].set_ylabel('x', fontsize=16)\n",
    "ax[1].set_title(r'$\\dot{u}(x, t)$', fontsize=16)\n",
    "plt.show()"
   ]
  }
 ],
 "metadata": {
  "kernelspec": {
   "display_name": "Python 3 (ipykernel)",
   "language": "python",
   "name": "python3"
  },
  "language_info": {
   "codemirror_mode": {
    "name": "ipython",
    "version": 3
   },
   "file_extension": ".py",
   "mimetype": "text/x-python",
   "name": "python",
   "nbconvert_exporter": "python",
   "pygments_lexer": "ipython3",
   "version": "3.11.4"
  }
 },
 "nbformat": 4,
 "nbformat_minor": 5
}
