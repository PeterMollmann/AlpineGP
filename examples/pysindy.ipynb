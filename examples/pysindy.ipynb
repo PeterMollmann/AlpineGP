{
 "cells": [
  {
   "cell_type": "markdown",
   "id": "0c13619e-4ad9-413c-b30b-a81ce8aa0854",
   "metadata": {},
   "source": [
    "# Pysindy with DEC data"
   ]
  },
  {
   "cell_type": "code",
   "execution_count": 1,
   "id": "0d2ce03d-814f-4788-a46e-aa25995e5394",
   "metadata": {},
   "outputs": [],
   "source": [
    "import dctkit as dt\n",
    "from dctkit import config\n",
    "import os\n",
    "from scipy.io import loadmat\n",
    "import numpy as np\n",
    "import matplotlib.pyplot as plt\n",
    "from dctkit.mesh import util\n",
    "from dctkit.mesh.simplex import SimplicialComplex\n",
    "from dctkit.dec import cochain as C\n",
    "from dctkit.dec.vector import flat_PDP as flat\n",
    "from matplotlib import cm\n",
    "import pysindy as ps\n",
    "from alpine.data.util import load_dataset\n",
    "from alpine.data.burgers.burgers_dataset import data_path\n",
    "from dctkit.physics import burgers as b\n",
    "import math\n",
    "from sklearn.model_selection import train_test_split\n",
    "import warnings\n",
    "warnings.filterwarnings(\"ignore\")\n",
    "#import gmsh\n",
    "\n",
    "#gmsh.initialize()"
   ]
  },
  {
   "cell_type": "markdown",
   "id": "891a7bc3-1c94-4abd-8d4a-c75c4be43cab",
   "metadata": {},
   "source": [
    "## Data preparation"
   ]
  },
  {
   "cell_type": "code",
   "execution_count": 2,
   "id": "5755f175-deb6-44fb-9886-c0fbcce10219",
   "metadata": {},
   "outputs": [],
   "source": [
    "config()"
   ]
  },
  {
   "cell_type": "code",
   "execution_count": 3,
   "id": "1e686b72-9bc0-4377-a852-3bac197e983d",
   "metadata": {},
   "outputs": [
    {
     "name": "stdout",
     "output_type": "stream",
     "text": [
      "0.006231811307617956\n"
     ]
    }
   ],
   "source": [
    "# SPACE PARAMS\n",
    "# spatial resolution\n",
    "dx = 2**4/2**8\n",
    "L = 2**4 + dx\n",
    "dx_norm = dx/L\n",
    "L_norm = 1\n",
    "#  Number of spatial grid points\n",
    "num_x_points = int(math.ceil(L / dx))\n",
    "num_x_points_norm = num_x_points\n",
    "\n",
    "# vector containing spatial points\n",
    "#x = np.linspace(0, L, num_x_points)\n",
    "x = np.linspace(-L/2, L/2, num_x_points)\n",
    "x_circ = (x[:-1] + x[1:])/2\n",
    "\n",
    "# initial velocity\n",
    "#u_0 = 2 * np.exp(-2 * (x_circ - 0.5 * L)**2)\n",
    "u_0 = 1* np.exp(-1 * (x_circ + 0.5 * L/4)**2)\n",
    "umax = np.max(u_0)\n",
    "\n",
    "# TIME PARAMS\n",
    "T = 10\n",
    "T_norm = T*umax/L\n",
    "# temporal resolution\n",
    "#dt = 10/2**12\n",
    "dt = 10/2**9\n",
    "dt_norm = dt*umax/L\n",
    "# number of temporal grid points\n",
    "num_t_points_norm = int(math.ceil(T_norm / dt_norm))\n",
    "num_t_points = num_t_points_norm\n",
    "\n",
    "\n",
    "t = np.linspace(0, T, num_t_points)\n",
    "t_norm = np.linspace(0, T_norm, num_t_points_norm)\n",
    "\n",
    "# Viscosity\n",
    "#epsilon = 0.005*(L*umax)\n",
    "epsilon = 0.1\n",
    "#epsilon = 0.02\n",
    "epsilon_norm = epsilon/(L*umax)\n",
    "print(epsilon_norm)\n",
    "\n",
    "nodes_BC = {'left': np.zeros(num_t_points_norm),\n",
    "            'right': np.zeros(num_t_points_norm)}"
   ]
  },
  {
   "cell_type": "code",
   "execution_count": 4,
   "id": "b7c65868-076f-41de-85e9-c5c71c5a8692",
   "metadata": {},
   "outputs": [],
   "source": [
    "# generate mesh\n",
    "# since the mesh points are a lot (> 1000) to not display warnings \n",
    "# we put expert mode\n",
    "#gmsh.option.setNumber(\"General.ExpertMode\", 1)\n",
    "mesh, _ = util.generate_line_mesh(num_x_points, L, x_min=-L/2)\n",
    "S = util.build_complex_from_mesh(mesh)\n",
    "S.get_hodge_star()\n",
    "S.get_flat_PDP_weights()\n",
    "# get circ\n",
    "circ = S.circ[1][:,0]"
   ]
  },
  {
   "cell_type": "code",
   "execution_count": 5,
   "id": "82221d60-ee49-468c-bfe0-52903d18ab63",
   "metadata": {},
   "outputs": [],
   "source": [
    "# construct full u (only for plotting and u_dot)\n",
    "prb = b.Burgers(S, T, dt, u_0, nodes_BC, epsilon)\n",
    "prb.run(\"parabolic\")"
   ]
  },
  {
   "cell_type": "code",
   "execution_count": 6,
   "id": "34581f2e-dbf3-4ec8-b1b0-9cb07db0eccf",
   "metadata": {},
   "outputs": [],
   "source": [
    "u = prb.u\n",
    "u_dot_true = prb.u_dot\n",
    "#u_dot_true = ps.FiniteDifference(axis=1)._differentiate(u, t=dt)"
   ]
  },
  {
   "cell_type": "markdown",
   "id": "c22af042-bb27-4f91-8173-3c3089393d7e",
   "metadata": {},
   "source": [
    "## Extract results"
   ]
  },
  {
   "cell_type": "code",
   "execution_count": 7,
   "id": "f9ec8754-6843-4aa8-9470-d93a154a7aaa",
   "metadata": {},
   "outputs": [],
   "source": [
    "def grid_search(threshold_list, alpha_list,pde_lib, train, val, l0 =0.001):\n",
    "    t_training, u_training_reshape = train\n",
    "    u_val_reshape, u_dot_val_true = val\n",
    "    curr_best_error = 1000\n",
    "    for threshold in threshold_list:\n",
    "        for alpha in alpha_list:\n",
    "            optimizer = ps.STLSQ(threshold=threshold, alpha=alpha, normalize_columns=True, verbose=False)\n",
    "            model = ps.SINDy(feature_library=pde_lib, optimizer=optimizer)\n",
    "            model.fit(u_training_reshape, t=t_training)\n",
    "            u_dot_val = model.predict(u_val_reshape)[:,:,0] + l0*np.count_nonzero(model.coefficients())\n",
    "            val_err = np.mean(np.linalg.norm(u_dot_val_true[:,:,0] - u_dot_val, axis=0)**2)\n",
    "            if val_err < curr_best_error:\n",
    "                curr_best_error = val_err\n",
    "                best_params = (threshold, alpha)\n",
    "    return curr_best_error, best_params"
   ]
  },
  {
   "cell_type": "code",
   "execution_count": 8,
   "id": "02837ac6-92a2-437f-80e1-9a4bb397d70b",
   "metadata": {},
   "outputs": [],
   "source": [
    "def prepare_data(time_idx, t_sample, u_T, u_dot_sample):\n",
    "    # define u_training\n",
    "    t = t_sample[time_idx]\n",
    "    u = u_T.T\n",
    "    u_dot_true = u_dot_sample[:, time_idx]\n",
    "\n",
    "    # reshape u_training and u_dot_training\n",
    "    u_reshaped = u.reshape(u.shape[0], u.shape[1], 1)\n",
    "    u_dot_reshaped = u_dot_true.reshape(u_dot_true.shape[0], u_dot_true.shape[1], 1)\n",
    "\n",
    "    return t, u_reshaped, u_dot_reshaped"
   ]
  },
  {
   "cell_type": "code",
   "execution_count": 9,
   "id": "4c685bd7-55f1-4f74-afa9-053708e6d2aa",
   "metadata": {},
   "outputs": [],
   "source": [
    "def get_results(u, u_dot, skip_dxs, skip_dts, thresholds, alphas):\n",
    "    for skip_dx in skip_dxs:\n",
    "        for skip_dt in skip_dts:\n",
    "            \n",
    "            # define sub-sampled mesh and time interval\n",
    "            t_sample = t[::skip_dt]\n",
    "            circ_sample = circ[::skip_dx]\n",
    "            \n",
    "            u_sample = u[::skip_dx, ::skip_dt]\n",
    "            u_dot_sample = u_dot_true[::skip_dx, ::skip_dt]\n",
    "            \n",
    "            # split the dataset in training+val and test set\n",
    "            time_train_val, time_test, u_train_val_T, u_test_T = train_test_split(\n",
    "                np.arange(len(t_sample)), u_sample.T, test_size=0.1, random_state=42, shuffle=False)\n",
    "            # split training+val in training and validation set\n",
    "            time_train, time_val, u_train_T, u_val_T = train_test_split(\n",
    "                time_train_val, u_train_val_T, test_size=0.1, random_state=42, shuffle=False)\n",
    "\n",
    "\n",
    "            # prepare data (reshaping and extracting info)\n",
    "            training_data = prepare_data(time_train, t_sample, u_train_T, u_dot_sample)\n",
    "            train_val_data = prepare_data(time_train_val, t_sample, u_train_val_T, u_dot_sample)\n",
    "            val_data = prepare_data(time_val, t_sample, u_val_T, u_dot_sample)\n",
    "            test_data = prepare_data(time_test, t_sample, u_test_T, u_dot_sample)\n",
    "            t_training, u_training_reshaped, _ = training_data\n",
    "            t_train_val, u_train_val_reshaped, _ = train_val_data\n",
    "            _, u_val_reshaped, u_val_dot_reshaped = val_data\n",
    "            _, u_test_reshaped, u_test_dot_reshaped = test_data\n",
    "            \n",
    "\n",
    "            # init pysindy\n",
    "            library_functions = [lambda x: x, lambda x: x*x, lambda x: x*x*x]\n",
    "            library_function_names = [lambda x: x, lambda x: x+x, lambda x: x+x+x]\n",
    "            pde_lib = ps.PDELibrary(\n",
    "                library_functions=library_functions,\n",
    "                function_names=library_function_names,\n",
    "                derivative_order=3,\n",
    "                spatial_grid=circ_sample,\n",
    "                is_uniform=True,\n",
    "                include_bias =True)\n",
    "\n",
    "            # launch GS\n",
    "            train = (t_training, u_training_reshaped)\n",
    "            val = (u_val_reshaped, u_val_dot_reshaped)\n",
    "            curr_best_error, best_params = grid_search(thresholds, alphas, pde_lib, train,val)\n",
    "\n",
    "            # training on train+val with best params\n",
    "            optimizer = ps.STLSQ(threshold=best_params[0], alpha=best_params[1], normalize_columns=True, verbose=False)\n",
    "            model = ps.SINDy(feature_library=pde_lib, optimizer=optimizer)\n",
    "            model.fit(u_train_val_reshaped, t=t_train_val)\n",
    "            \n",
    "            #extract stats\n",
    "            non_zero_idx = np.nonzero(model.coefficients()[0,:])[0]\n",
    "            true_non_zero_idx = np.array([5,7])\n",
    "\n",
    "\n",
    "            u_dot_test = model.predict(u_test_reshaped)[:,:,0]\n",
    "\n",
    "            test_MSE = np.mean(np.linalg.norm(u_test_dot_reshaped[:,:,0] - u_dot_test, axis=0)**2)\n",
    "\n",
    "            \n",
    "            if len(non_zero_idx) == 2 and np.allclose(non_zero_idx, true_non_zero_idx):\n",
    "                non_zero_coeffs = model.coefficients()[0, non_zero_idx]\n",
    "                non_zero_coeffs[0] = (non_zero_coeffs[0] - epsilon)*100/0.1\n",
    "                non_zero_coeffs[1] = (non_zero_coeffs[1] + 1)*100\n",
    "                error = np.mean(np.abs(non_zero_coeffs))\n",
    "                print(f\"({2**8//skip_dx},{2**9//skip_dt}): Works! Coeffs error = {round(error,3)}, test error = {test_MSE}\")\n",
    "            else:\n",
    "                print(f\"({2**8//skip_dx},{2**9//skip_dt}): Doesn't work, test error = {test_MSE}\")\n",
    "        \n"
   ]
  },
  {
   "cell_type": "code",
   "execution_count": 10,
   "id": "51fc1afa-beac-442f-ba2e-d8f943d9026d",
   "metadata": {},
   "outputs": [
    {
     "name": "stdout",
     "output_type": "stream",
     "text": [
      "(256,512): Works! Coeffs error = 0.952, test error = 1.4890818188907674e-05\n",
      "(256,256): Works! Coeffs error = 0.971, test error = 1.5459472765688934e-05\n",
      "(256,128): Works! Coeffs error = 1.028, test error = 1.7280243446959207e-05\n",
      "(256,64): Works! Coeffs error = 1.261, test error = 2.2994463016950227e-05\n",
      "(256,32): Works! Coeffs error = 2.084, test error = 3.750968265721926e-05\n",
      "(256,16): Works! Coeffs error = 3.782, test error = 0.0006655205434750594\n",
      "(128,512): Works! Coeffs error = 0.718, test error = 7.45128986467338e-06\n",
      "(128,256): Works! Coeffs error = 0.671, test error = 7.518103767526679e-06\n",
      "(128,128): Works! Coeffs error = 0.54, test error = 7.69799433664559e-06\n",
      "(128,64): Works! Coeffs error = 0.664, test error = 8.444444037700486e-06\n",
      "(128,32): Works! Coeffs error = 0.724, test error = 9.999519061251622e-06\n",
      "(128,16): Works! Coeffs error = 4.169, test error = 0.00029707754696087056\n",
      "(64,512): Works! Coeffs error = 6.112, test error = 3.229635205556469e-05\n",
      "(64,256): Works! Coeffs error = 6.055, test error = 3.190553623310592e-05\n",
      "(64,128): Works! Coeffs error = 5.885, test error = 3.061761382459131e-05\n",
      "(64,64): Works! Coeffs error = 5.443, test error = 2.7422265140078976e-05\n",
      "(64,32): Works! Coeffs error = 4.588, test error = 1.883932061380385e-05\n",
      "(64,16): Doesn't work, test error = 0.0010131313298890076\n",
      "(32,512): Works! Coeffs error = 25.903, test error = 0.00022993269561971273\n",
      "(32,256): Doesn't work, test error = 0.0001970861349910229\n",
      "(32,128): Works! Coeffs error = 25.6, test error = 0.00022665771038648516\n",
      "(32,64): Doesn't work, test error = 0.002989888931830919\n",
      "(32,32): Doesn't work, test error = 0.0005657351725932278\n",
      "(32,16): Doesn't work, test error = 0.0007725033031685392\n"
     ]
    }
   ],
   "source": [
    "skip_dxs = [2**0, 2**1, 2**2, 2**3]\n",
    "skip_dts = [2**0, 2**1, 2**2, 2**3, 2**4, 2**5]\n",
    "threshold_list = [1, 2.5, 5, 7.5, 10]\n",
    "alpha_list = [1e-1, 1e-2,1e-3, 1e-4, 1e-5]\n",
    "with warnings.catch_warnings(record=True):\n",
    "    get_results(u, u_dot_true, skip_dxs, skip_dts, threshold_list, alpha_list)"
   ]
  }
 ],
 "metadata": {
  "kernelspec": {
   "display_name": "Python 3 (ipykernel)",
   "language": "python",
   "name": "python3"
  },
  "language_info": {
   "codemirror_mode": {
    "name": "ipython",
    "version": 3
   },
   "file_extension": ".py",
   "mimetype": "text/x-python",
   "name": "python",
   "nbconvert_exporter": "python",
   "pygments_lexer": "ipython3",
   "version": "3.11.4"
  }
 },
 "nbformat": 4,
 "nbformat_minor": 5
}
